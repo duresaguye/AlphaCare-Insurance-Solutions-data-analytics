{
 "cells": [
  {
   "cell_type": "code",
   "execution_count": 35,
   "metadata": {},
   "outputs": [],
   "source": [
    "import pandas as pd\n",
    "import numpy as np\n",
    "import matplotlib.pyplot as plt\n",
    "import seaborn as sns\n",
    "import missingno as msno\n",
    "from scipy.stats import f_oneway\n",
    "\n",
    "# Set the style for seaborn\n",
    "sns.set(style=\"whitegrid\")"
   ]
  },
  {
   "cell_type": "code",
   "execution_count": 27,
   "metadata": {},
   "outputs": [
    {
     "name": "stderr",
     "output_type": "stream",
     "text": [
      "/tmp/ipykernel_10153/3149716167.py:2: DtypeWarning: Columns (32,37) have mixed types. Specify dtype option on import or set low_memory=False.\n",
      "  data = pd.read_csv('../data/MachineLearningRating_v3.csv')\n"
     ]
    },
    {
     "data": {
      "text/html": [
       "<div>\n",
       "<style scoped>\n",
       "    .dataframe tbody tr th:only-of-type {\n",
       "        vertical-align: middle;\n",
       "    }\n",
       "\n",
       "    .dataframe tbody tr th {\n",
       "        vertical-align: top;\n",
       "    }\n",
       "\n",
       "    .dataframe thead th {\n",
       "        text-align: right;\n",
       "    }\n",
       "</style>\n",
       "<table border=\"1\" class=\"dataframe\">\n",
       "  <thead>\n",
       "    <tr style=\"text-align: right;\">\n",
       "      <th></th>\n",
       "      <th>UnderwrittenCoverID</th>\n",
       "      <th>PolicyID</th>\n",
       "      <th>TransactionMonth</th>\n",
       "      <th>IsVATRegistered</th>\n",
       "      <th>Citizenship</th>\n",
       "      <th>LegalType</th>\n",
       "      <th>Title</th>\n",
       "      <th>Language</th>\n",
       "      <th>Bank</th>\n",
       "      <th>AccountType</th>\n",
       "      <th>...</th>\n",
       "      <th>ExcessSelected</th>\n",
       "      <th>CoverCategory</th>\n",
       "      <th>CoverType</th>\n",
       "      <th>CoverGroup</th>\n",
       "      <th>Section</th>\n",
       "      <th>Product</th>\n",
       "      <th>StatutoryClass</th>\n",
       "      <th>StatutoryRiskType</th>\n",
       "      <th>TotalPremium</th>\n",
       "      <th>TotalClaims</th>\n",
       "    </tr>\n",
       "  </thead>\n",
       "  <tbody>\n",
       "    <tr>\n",
       "      <th>0</th>\n",
       "      <td>145249</td>\n",
       "      <td>12827</td>\n",
       "      <td>2015-03-01 00:00:00</td>\n",
       "      <td>True</td>\n",
       "      <td></td>\n",
       "      <td>Close Corporation</td>\n",
       "      <td>Mr</td>\n",
       "      <td>English</td>\n",
       "      <td>First National Bank</td>\n",
       "      <td>Current account</td>\n",
       "      <td>...</td>\n",
       "      <td>Mobility - Windscreen</td>\n",
       "      <td>Windscreen</td>\n",
       "      <td>Windscreen</td>\n",
       "      <td>Comprehensive - Taxi</td>\n",
       "      <td>Motor Comprehensive</td>\n",
       "      <td>Mobility Metered Taxis: Monthly</td>\n",
       "      <td>Commercial</td>\n",
       "      <td>IFRS Constant</td>\n",
       "      <td>21.929825</td>\n",
       "      <td>0.0</td>\n",
       "    </tr>\n",
       "    <tr>\n",
       "      <th>1</th>\n",
       "      <td>145249</td>\n",
       "      <td>12827</td>\n",
       "      <td>2015-05-01 00:00:00</td>\n",
       "      <td>True</td>\n",
       "      <td></td>\n",
       "      <td>Close Corporation</td>\n",
       "      <td>Mr</td>\n",
       "      <td>English</td>\n",
       "      <td>First National Bank</td>\n",
       "      <td>Current account</td>\n",
       "      <td>...</td>\n",
       "      <td>Mobility - Windscreen</td>\n",
       "      <td>Windscreen</td>\n",
       "      <td>Windscreen</td>\n",
       "      <td>Comprehensive - Taxi</td>\n",
       "      <td>Motor Comprehensive</td>\n",
       "      <td>Mobility Metered Taxis: Monthly</td>\n",
       "      <td>Commercial</td>\n",
       "      <td>IFRS Constant</td>\n",
       "      <td>21.929825</td>\n",
       "      <td>0.0</td>\n",
       "    </tr>\n",
       "    <tr>\n",
       "      <th>2</th>\n",
       "      <td>145249</td>\n",
       "      <td>12827</td>\n",
       "      <td>2015-07-01 00:00:00</td>\n",
       "      <td>True</td>\n",
       "      <td></td>\n",
       "      <td>Close Corporation</td>\n",
       "      <td>Mr</td>\n",
       "      <td>English</td>\n",
       "      <td>First National Bank</td>\n",
       "      <td>Current account</td>\n",
       "      <td>...</td>\n",
       "      <td>Mobility - Windscreen</td>\n",
       "      <td>Windscreen</td>\n",
       "      <td>Windscreen</td>\n",
       "      <td>Comprehensive - Taxi</td>\n",
       "      <td>Motor Comprehensive</td>\n",
       "      <td>Mobility Metered Taxis: Monthly</td>\n",
       "      <td>Commercial</td>\n",
       "      <td>IFRS Constant</td>\n",
       "      <td>0.000000</td>\n",
       "      <td>0.0</td>\n",
       "    </tr>\n",
       "    <tr>\n",
       "      <th>3</th>\n",
       "      <td>145255</td>\n",
       "      <td>12827</td>\n",
       "      <td>2015-05-01 00:00:00</td>\n",
       "      <td>True</td>\n",
       "      <td></td>\n",
       "      <td>Close Corporation</td>\n",
       "      <td>Mr</td>\n",
       "      <td>English</td>\n",
       "      <td>First National Bank</td>\n",
       "      <td>Current account</td>\n",
       "      <td>...</td>\n",
       "      <td>Mobility - Metered Taxis - R2000</td>\n",
       "      <td>Own damage</td>\n",
       "      <td>Own Damage</td>\n",
       "      <td>Comprehensive - Taxi</td>\n",
       "      <td>Motor Comprehensive</td>\n",
       "      <td>Mobility Metered Taxis: Monthly</td>\n",
       "      <td>Commercial</td>\n",
       "      <td>IFRS Constant</td>\n",
       "      <td>512.848070</td>\n",
       "      <td>0.0</td>\n",
       "    </tr>\n",
       "    <tr>\n",
       "      <th>4</th>\n",
       "      <td>145255</td>\n",
       "      <td>12827</td>\n",
       "      <td>2015-07-01 00:00:00</td>\n",
       "      <td>True</td>\n",
       "      <td></td>\n",
       "      <td>Close Corporation</td>\n",
       "      <td>Mr</td>\n",
       "      <td>English</td>\n",
       "      <td>First National Bank</td>\n",
       "      <td>Current account</td>\n",
       "      <td>...</td>\n",
       "      <td>Mobility - Metered Taxis - R2000</td>\n",
       "      <td>Own damage</td>\n",
       "      <td>Own Damage</td>\n",
       "      <td>Comprehensive - Taxi</td>\n",
       "      <td>Motor Comprehensive</td>\n",
       "      <td>Mobility Metered Taxis: Monthly</td>\n",
       "      <td>Commercial</td>\n",
       "      <td>IFRS Constant</td>\n",
       "      <td>0.000000</td>\n",
       "      <td>0.0</td>\n",
       "    </tr>\n",
       "  </tbody>\n",
       "</table>\n",
       "<p>5 rows × 52 columns</p>\n",
       "</div>"
      ],
      "text/plain": [
       "   UnderwrittenCoverID  PolicyID     TransactionMonth  IsVATRegistered  \\\n",
       "0               145249     12827  2015-03-01 00:00:00             True   \n",
       "1               145249     12827  2015-05-01 00:00:00             True   \n",
       "2               145249     12827  2015-07-01 00:00:00             True   \n",
       "3               145255     12827  2015-05-01 00:00:00             True   \n",
       "4               145255     12827  2015-07-01 00:00:00             True   \n",
       "\n",
       "  Citizenship          LegalType Title Language                 Bank  \\\n",
       "0              Close Corporation    Mr  English  First National Bank   \n",
       "1              Close Corporation    Mr  English  First National Bank   \n",
       "2              Close Corporation    Mr  English  First National Bank   \n",
       "3              Close Corporation    Mr  English  First National Bank   \n",
       "4              Close Corporation    Mr  English  First National Bank   \n",
       "\n",
       "       AccountType  ...                    ExcessSelected CoverCategory  \\\n",
       "0  Current account  ...             Mobility - Windscreen    Windscreen   \n",
       "1  Current account  ...             Mobility - Windscreen    Windscreen   \n",
       "2  Current account  ...             Mobility - Windscreen    Windscreen   \n",
       "3  Current account  ...  Mobility - Metered Taxis - R2000    Own damage   \n",
       "4  Current account  ...  Mobility - Metered Taxis - R2000    Own damage   \n",
       "\n",
       "    CoverType            CoverGroup              Section  \\\n",
       "0  Windscreen  Comprehensive - Taxi  Motor Comprehensive   \n",
       "1  Windscreen  Comprehensive - Taxi  Motor Comprehensive   \n",
       "2  Windscreen  Comprehensive - Taxi  Motor Comprehensive   \n",
       "3  Own Damage  Comprehensive - Taxi  Motor Comprehensive   \n",
       "4  Own Damage  Comprehensive - Taxi  Motor Comprehensive   \n",
       "\n",
       "                           Product StatutoryClass StatutoryRiskType  \\\n",
       "0  Mobility Metered Taxis: Monthly     Commercial     IFRS Constant   \n",
       "1  Mobility Metered Taxis: Monthly     Commercial     IFRS Constant   \n",
       "2  Mobility Metered Taxis: Monthly     Commercial     IFRS Constant   \n",
       "3  Mobility Metered Taxis: Monthly     Commercial     IFRS Constant   \n",
       "4  Mobility Metered Taxis: Monthly     Commercial     IFRS Constant   \n",
       "\n",
       "   TotalPremium TotalClaims  \n",
       "0     21.929825         0.0  \n",
       "1     21.929825         0.0  \n",
       "2      0.000000         0.0  \n",
       "3    512.848070         0.0  \n",
       "4      0.000000         0.0  \n",
       "\n",
       "[5 rows x 52 columns]"
      ]
     },
     "execution_count": 27,
     "metadata": {},
     "output_type": "execute_result"
    }
   ],
   "source": [
    " #Load the data\n",
    "data = pd.read_csv('../data/MachineLearningRating_v3.csv')\n",
    "\n",
    "# Display the first few rows of the dataframe\n",
    "data.head()"
   ]
  },
  {
   "cell_type": "code",
   "execution_count": 34,
   "metadata": {},
   "outputs": [
    {
     "data": {
      "text/plain": [
       "Province\n",
       "Gauteng          393865\n",
       "Western Cape     170796\n",
       "KwaZulu-Natal    169781\n",
       "North West       143287\n",
       "Mpumalanga        52718\n",
       "Eastern Cape      30336\n",
       "Limpopo           24836\n",
       "Free State         8099\n",
       "Northern Cape      6380\n",
       "Name: count, dtype: int64"
      ]
     },
     "execution_count": 34,
     "metadata": {},
     "output_type": "execute_result"
    }
   ],
   "source": [
    "data.Province.value_counts()"
   ]
  },
  {
   "cell_type": "code",
   "execution_count": 24,
   "metadata": {},
   "outputs": [
    {
     "name": "stdout",
     "output_type": "stream",
     "text": [
      "T-statistic: nan, P-value: nan\n",
      "Fail to reject the null hypothesis: There are no risk differences across provinces.\n"
     ]
    },
    {
     "name": "stderr",
     "output_type": "stream",
     "text": [
      "/tmp/ipykernel_10153/2514817195.py:10: SmallSampleWarning: One or more sample arguments is too small; all returned values will be NaN. See documentation for sample size requirements.\n",
      "  t_stat, p_value = ttest_ind(group_a, group_b, equal_var=False)\n"
     ]
    }
   ],
   "source": [
    "from scipy.stats import ttest_ind, chi2_contingency\n",
    "\n",
    "# Group A: Plans in Province A\n",
    "group_a = data[data['Province'] == 'Province']['TotalClaims']\n",
    "\n",
    "# Group B: Plans in Province B\n",
    "group_b = data[data['Province'] == 'Province']['TotalClaims']\n",
    "\n",
    "# Perform t-test\n",
    "t_stat, p_value = ttest_ind(group_a, group_b, equal_var=False)\n",
    "\n",
    "print(f\"T-statistic: {t_stat}, P-value: {p_value}\")\n",
    "\n",
    "if p_value < 0.05:\n",
    "    print(\"Reject the null hypothesis: There are risk differences across provinces.\")\n",
    "else:\n",
    "    print(\"Fail to reject the null hypothesis: There are no risk differences across provinces.\")"
   ]
  },
  {
   "cell_type": "code",
   "execution_count": 40,
   "metadata": {},
   "outputs": [
    {
     "name": "stdout",
     "output_type": "stream",
     "text": [
      "Gauteng size before dropna: 393865, Western Cape size before dropna: 170796\n",
      "Gauteng size after dropna: 393865, Western Cape size after dropna: 170796\n",
      "T-statistic: 1.8652143496485993, P-value: 0.062152314522800046\n",
      "Fail to reject the null hypothesis: There are no risk differences across provinces.\n"
     ]
    }
   ],
   "source": [
    "import pandas as pd\n",
    "from scipy.stats import ttest_ind\n",
    "\n",
    "\n",
    "# Filtering the dataset by Province for two specific provinces\n",
    "gauteng_claims = data[data['Province'] == 'Gauteng']['TotalClaims']\n",
    "Western_Cape_claims = data[data['Province'] == 'Western Cape']['TotalClaims']\n",
    "\n",
    "# Check group sizes and handle NaN\n",
    "print(f\"Gauteng size before dropna: {len(gauteng_claims)}, Western Cape size before dropna: {len(Western_Cape_claims)}\")\n",
    "gauteng_claims = gauteng_claims.dropna()\n",
    "Western_Cape_claims = Western_Cape_claims.dropna()\n",
    "print(f\"Gauteng size after dropna: {len(gauteng_claims)}, Western Cape size after dropna: {len(Western_Cape_claims)}\")\n",
    "\n",
    "# Perform t-test if groups are valid\n",
    "if len(gauteng_claims) == 0 or len(Western_Cape_claims) == 0:\n",
    "    print(\"One of the groups is empty. Check your filtering conditions.\")\n",
    "else:\n",
    "    t_stat, p_value = ttest_ind(gauteng_claims, Western_Cape_claims, equal_var=False)\n",
    "    print(f\"T-statistic: {t_stat}, P-value: {p_value}\")\n",
    "\n",
    "    # Analyze the p-value\n",
    "    if p_value < 0.05:\n",
    "        print(\"Reject the null hypothesis: There are risk differences across provinces.\")\n",
    "    else:\n",
    "        print(\"Fail to reject the null hypothesis: There are no risk differences across provinces.\")\n"
   ]
  },
  {
   "cell_type": "code",
   "execution_count": 42,
   "metadata": {},
   "outputs": [
    {
     "name": "stdout",
     "output_type": "stream",
     "text": [
      "Gauteng size before dropna: 393865, KwaZulu-Natal size before dropna: 169781\n",
      "Gauteng size after dropna: 393865, KwaZulu-Natal size after dropna: 169781\n",
      "T-statistic: -1.246201702257548, P-value: 0.2126913533358068\n",
      "Fail to reject the null hypothesis: There are no risk differences across provinces.\n"
     ]
    }
   ],
   "source": [
    "# Ensure no extra spaces and correct filtering\n",
    "group_a = data[data['Province'].str.strip() == 'Gauteng']['TotalClaims']\n",
    "group_b = data[data['Province'].str.strip() == 'KwaZulu-Natal']['TotalClaims']\n",
    "\n",
    "# Check group sizes and handle NaN\n",
    "print(f\"Gauteng size before dropna: {len(group_a)}, KwaZulu-Natal size before dropna: {len(group_b)}\")\n",
    "\n",
    "# Drop NaN values in TotalClaims for both groups\n",
    "group_a = group_a.dropna()\n",
    "group_b = group_b.dropna()\n",
    "\n",
    "print(f\"Gauteng size after dropna: {len(group_a)}, KwaZulu-Natal size after dropna: {len(group_b)}\")\n",
    "\n",
    "# Check if either group is empty\n",
    "if len(group_a) == 0:\n",
    "    print(\"Group A (Gauteng) is empty. Check your filtering conditions or data.\")\n",
    "elif len(group_b) == 0:\n",
    "    print(\"Group B (KwaZulu-Natal) is empty. Check your filtering conditions or data.\")\n",
    "else:\n",
    "    # Perform t-test if both groups have data\n",
    "    t_stat, p_value = ttest_ind(group_a, group_b, equal_var=False)\n",
    "    print(f\"T-statistic: {t_stat}, P-value: {p_value}\")\n",
    "\n",
    "    # Interpret the results of the t-test\n",
    "    if p_value < 0.05:\n",
    "        print(\"Reject the null hypothesis: There are risk differences across provinces.\")\n",
    "    else:\n",
    "        print(\"Fail to reject the null hypothesis: There are no risk differences across provinces.\")\n"
   ]
  },
  {
   "cell_type": "code",
   "execution_count": 38,
   "metadata": {},
   "outputs": [
    {
     "name": "stdout",
     "output_type": "stream",
     "text": [
      "F-statistic: 5.849413762407606, P-value: 1.6782057588675906e-07\n",
      "Reject the null hypothesis: There are risk differences across provinces.\n"
     ]
    }
   ],
   "source": [
    "#Perform ANOVA to compare risk (TotalClaims) across multiple provinces. \n",
    "from scipy.stats import f_oneway\n",
    "\n",
    "# List of provinces\n",
    "provinces = data['Province'].unique()\n",
    "\n",
    "# Group data by province\n",
    "groups = [data[data['Province'] == province]['TotalClaims'].dropna() for province in provinces]\n",
    "\n",
    "# Perform ANOVA\n",
    "f_stat, p_value = f_oneway(*groups)\n",
    "\n",
    "print(f\"F-statistic: {f_stat}, P-value: {p_value}\")\n",
    "\n",
    "if p_value < 0.05:\n",
    "    print(\"Reject the null hypothesis: There are risk differences across provinces.\")\n",
    "else:\n",
    "    print(\"Fail to reject the null hypothesis: There are no risk differences across provinces.\")\n"
   ]
  },
  {
   "cell_type": "code",
   "execution_count": 15,
   "metadata": {},
   "outputs": [
    {
     "name": "stdout",
     "output_type": "stream",
     "text": [
      "F-statistic: 0.9419762214391849, P-value: 0.8906511279164051\n",
      "Fail to reject the null hypothesis: There are no risk differences between zip codes.\n"
     ]
    }
   ],
   "source": [
    "# List of zip codes\n",
    "zip_codes = data['PostalCode'].unique()\n",
    "\n",
    "# Group data by zip code\n",
    "groups_zip = [data[data['PostalCode'] == zip_code]['TotalClaims'].dropna() for zip_code in zip_codes]\n",
    "\n",
    "# Perform ANOVA\n",
    "f_stat, p_value = f_oneway(*groups_zip)\n",
    "\n",
    "print(f\"F-statistic: {f_stat}, P-value: {p_value}\")\n",
    "\n",
    "if p_value < 0.05:\n",
    "    print(\"Reject the null hypothesis: There are risk differences between zip codes.\")\n",
    "else:\n",
    "    print(\"Fail to reject the null hypothesis: There are no risk differences between zip codes.\")\n"
   ]
  },
  {
   "cell_type": "code",
   "execution_count": 21,
   "metadata": {},
   "outputs": [
    {
     "name": "stdout",
     "output_type": "stream",
     "text": [
      "F-statistic: 5.715375005231982, P-value: 0.0\n",
      "Reject the null hypothesis: There are significant profit differences between zip codes.\n"
     ]
    }
   ],
   "source": [
    "# Group data by zip code and profit margin\n",
    "groups_profit = [data[data['PostalCode'] == zip_code]['CalculatedPremiumPerTerm'].dropna() for zip_code in zip_codes]\n",
    "\n",
    "# Perform ANOVA\n",
    "f_stat, p_value = f_oneway(*groups_profit)\n",
    "\n",
    "print(f\"F-statistic: {f_stat}, P-value: {p_value}\")\n",
    "\n",
    "if p_value < 0.05:\n",
    "    print(\"Reject the null hypothesis: There are significant profit differences between zip codes.\")\n",
    "else:\n",
    "    print(\"Fail to reject the null hypothesis: There are no significant profit differences between zip codes.\")\n",
    "\n"
   ]
  },
  {
   "cell_type": "code",
   "execution_count": 20,
   "metadata": {},
   "outputs": [
    {
     "name": "stdout",
     "output_type": "stream",
     "text": [
      "T-statistic: 0.296353891400699, P-value: 0.7669656471629475\n",
      "Fail to reject the null hypothesis: There are no significant risk differences between Women and Men.\n"
     ]
    }
   ],
   "source": [
    "# Group data by Gender\n",
    "group_women = data[data['Gender'] == 'Female']['TotalClaims'].dropna()\n",
    "group_men = data[data['Gender'] == 'Male']['TotalClaims'].dropna()\n",
    "\n",
    "# Perform t-test\n",
    "t_stat, p_value = ttest_ind(group_women, group_men, equal_var=False)\n",
    "\n",
    "print(f\"T-statistic: {t_stat}, P-value: {p_value}\")\n",
    "\n",
    "if p_value < 0.05:\n",
    "    print(\"Reject the null hypothesis: There are significant risk differences between Women and Men.\")\n",
    "else:\n",
    "    print(\"Fail to reject the null hypothesis: There are no significant risk differences between Women and Men.\")\n"
   ]
  }
 ],
 "metadata": {
  "kernelspec": {
   "display_name": "venv",
   "language": "python",
   "name": "python3"
  },
  "language_info": {
   "codemirror_mode": {
    "name": "ipython",
    "version": 3
   },
   "file_extension": ".py",
   "mimetype": "text/x-python",
   "name": "python",
   "nbconvert_exporter": "python",
   "pygments_lexer": "ipython3",
   "version": "3.12.7"
  }
 },
 "nbformat": 4,
 "nbformat_minor": 2
}
